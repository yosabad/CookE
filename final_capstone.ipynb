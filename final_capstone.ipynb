{
 "cells": [
  {
   "cell_type": "code",
   "execution_count": 1,
   "metadata": {},
   "outputs": [],
   "source": [
    "import pandas as pd\n",
    "import numpy as np\n",
    "import matplotlib.pyplot as plt\n",
    "import tensorflow as tf\n",
    "import tensorflow_hub as hub\n",
    "from tensorflow.keras import layers\n",
    "from tensorflow.keras import Model\n",
    "from tensorflow.keras.optimizers import RMSprop, Adam\n",
    "from tensorflow.keras.preprocessing.image import ImageDataGenerator\n",
    "from tensorflow.keras.models import Sequential\n",
    "from tensorflow.keras.layers import Dense\n",
    "from tensorflow.keras.preprocessing import image"
   ]
  },
  {
   "cell_type": "code",
   "execution_count": 58,
   "metadata": {},
   "outputs": [],
   "source": [
    "import os\n",
    "\n",
    "base_dir = 'images120'\n",
    "train_dir = os.path.join(base_dir, 'train')\n",
    "validation_dir = os.path.join(base_dir, 'validation')"
   ]
  },
  {
   "cell_type": "code",
   "execution_count": 59,
   "metadata": {},
   "outputs": [],
   "source": [
    "def train_val_generators(TRAINING_DIR, VALIDATION_DIR):\n",
    "  train_datagen = ImageDataGenerator(rescale=1./255.,\n",
    "                                     rotation_range=60,\n",
    "                                    #  width_shift_range=0.2,\n",
    "                                    #  height_shift_range=0.2,\n",
    "                                    #  shear_range=0.2,\n",
    "                                     zoom_range=0.2,\n",
    "                                     horizontal_flip=True,\n",
    "                                     fill_mode='nearest')\n",
    "\n",
    "  train_generator = train_datagen.flow_from_directory(directory=TRAINING_DIR,\n",
    "                                                      batch_size=30, \n",
    "                                                      class_mode='categorical',\n",
    "                                                      target_size=(224, 224))\n",
    "\n",
    "  validation_datagen = ImageDataGenerator(rescale=1./255.)\n",
    "\n",
    "  validation_generator = validation_datagen.flow_from_directory(directory=VALIDATION_DIR,\n",
    "                                                                batch_size=30, \n",
    "                                                                class_mode='categorical',\n",
    "                                                                target_size=(224, 224))\n",
    "  return train_generator, validation_generator"
   ]
  },
  {
   "cell_type": "code",
   "execution_count": 60,
   "metadata": {},
   "outputs": [
    {
     "name": "stdout",
     "output_type": "stream",
     "text": [
      "Found 3600 images belonging to 30 classes.\n",
      "Found 890 images belonging to 30 classes.\n"
     ]
    }
   ],
   "source": [
    "train_generator, validation_generator = train_val_generators(train_dir, validation_dir)"
   ]
  },
  {
   "cell_type": "code",
   "execution_count": 61,
   "metadata": {},
   "outputs": [],
   "source": [
    "efficientnet = \"https://tfhub.dev/google/efficientnet/b0/feature-vector/1\"\n",
    "model = tf.keras.Sequential([\n",
    "    hub.KerasLayer(efficientnet, trainable=False),  # Set trainable=False to keep the pre-trained weights fixed\n",
    "])"
   ]
  },
  {
   "cell_type": "code",
   "execution_count": 62,
   "metadata": {},
   "outputs": [],
   "source": [
    "model.add(tf.keras.layers.Dense(512, activation='relu'))\n",
    "model.add(tf.keras.layers.Dropout(0.3))\n",
    "model.add(tf.keras.layers.Dense(30, activation='softmax'))\n",
    "model.compile(optimizer='adam', \n",
    "              loss='categorical_crossentropy', \n",
    "              metrics=['accuracy'])"
   ]
  },
  {
   "cell_type": "code",
   "execution_count": 63,
   "metadata": {
    "vscode": {
     "languageId": "sql"
    }
   },
   "outputs": [],
   "source": [
    "class myCallback(tf.keras.callbacks.Callback):\n",
    "  def on_epoch_end(self, epoch, logs={}):\n",
    "    if(logs.get('accuracy')>0.99):\n",
    "      print(\"\\nReached 99% accuracy so cancelling training!\")\n",
    "      self.model.stop_training = True"
   ]
  },
  {
   "cell_type": "code",
   "execution_count": 64,
   "metadata": {},
   "outputs": [
    {
     "name": "stdout",
     "output_type": "stream",
     "text": [
      "Epoch 1/100\n",
      "120/120 [==============================] - 250s 2s/step - loss: 0.5271 - accuracy: 0.8764 - val_loss: 0.1187 - val_accuracy: 0.9618\n",
      "Epoch 2/100\n",
      "120/120 [==============================] - 246s 2s/step - loss: 0.0814 - accuracy: 0.9761 - val_loss: 0.0877 - val_accuracy: 0.9685\n",
      "Epoch 3/100\n",
      "120/120 [==============================] - 234s 2s/step - loss: 0.0520 - accuracy: 0.9858 - val_loss: 0.0866 - val_accuracy: 0.9697\n",
      "Epoch 4/100\n",
      "120/120 [==============================] - 226s 2s/step - loss: 0.0441 - accuracy: 0.9889 - val_loss: 0.0614 - val_accuracy: 0.9753\n",
      "Epoch 5/100\n",
      "120/120 [==============================] - 175s 1s/step - loss: 0.0319 - accuracy: 0.9897 - val_loss: 0.0687 - val_accuracy: 0.9775\n",
      "Epoch 6/100\n",
      "120/120 [==============================] - ETA: 0s - loss: 0.0189 - accuracy: 0.9956\n",
      "Reached 99% accuracy so cancelling training!\n",
      "120/120 [==============================] - 177s 1s/step - loss: 0.0189 - accuracy: 0.9956 - val_loss: 0.0739 - val_accuracy: 0.9742\n"
     ]
    }
   ],
   "source": [
    "callbacks = myCallback()\n",
    "history = model.fit(train_generator,\n",
    "                    steps_per_epoch=120,\n",
    "                    epochs=100,\n",
    "                    validation_data=validation_generator,\n",
    "                    callbacks=callbacks)"
   ]
  },
  {
   "cell_type": "code",
   "execution_count": 65,
   "metadata": {},
   "outputs": [
    {
     "data": {
      "image/png": "[encoded data removed]",
      "text/plain": [
       "<Figure size 640x480 with 1 Axes>"
      ]
     },
     "metadata": {},
     "output_type": "display_data"
    },
    {
     "data": {
      "text/plain": [
       "<Figure size 640x480 with 0 Axes>"
      ]
     },
     "metadata": {},
     "output_type": "display_data"
    }
   ],
   "source": [
    "# Plot the training and validation accuracies for each epoch\n",
    "acc = history.history['accuracy']\n",
    "val_acc = history.history['val_accuracy']\n",
    "loss = history.history['loss']\n",
    "val_loss = history.history['val_loss']\n",
    "\n",
    "epochs = range(len(acc))\n",
    "\n",
    "plt.plot(epochs, acc, 'r', label='Training accuracy')\n",
    "plt.plot(epochs, val_acc, 'b', label='Validation accuracy')\n",
    "plt.title('Training and validation accuracy')\n",
    "plt.legend(loc=0)\n",
    "plt.figure()\n",
    "plt.show()"
   ]
  },
  {
   "cell_type": "code",
   "execution_count": 79,
   "metadata": {},
   "outputs": [],
   "source": [
    "# Specify the file path to save the model\n",
    "model_path = 'model_cukup_bagus.h5'\n",
    "\n",
    "# Save the model\n",
    "model.save(model_path)"
   ]
  },
  {
   "cell_type": "code",
   "execution_count": 81,
   "metadata": {},
   "outputs": [
    {
     "name": "stdout",
     "output_type": "stream",
     "text": [
      "INFO:tensorflow:Assets written to: model_cukup_bagus2.h5\\assets\n"
     ]
    },
    {
     "name": "stderr",
     "output_type": "stream",
     "text": [
      "INFO:tensorflow:Assets written to: model_cukup_bagus2.h5\\assets\n"
     ]
    }
   ],
   "source": [
    "model_path2 = 'model_cukup_bagus2.h5'\n",
    "\n",
    "tf.saved_model.save(model, model_path2)"
   ]
  },
  {
   "cell_type": "code",
   "execution_count": 77,
   "metadata": {},
   "outputs": [],
   "source": [
    "testing_dir = os.path.join(base_dir, 'testing')"
   ]
  },
  {
   "cell_type": "code",
   "execution_count": 78,
   "metadata": {},
   "outputs": [
    {
     "name": "stdout",
     "output_type": "stream",
     "text": [
      "The prediction of alpukat1.jpeg is alpukat : 0.9997022747993469\n",
      "The prediction of alpukat2.jpg is alpukat : 0.9999421834945679\n",
      "The prediction of alpukat3.jpg is alpukat : 0.9997923970222473\n",
      "The prediction of anggur1.jpg is anggur : 0.9997580647468567\n",
      "The prediction of anggur2.jpeg is anggur : 0.9912272095680237\n",
      "The prediction of anggur3.jpg is anggur : 0.9998706579208374\n",
      "The prediction of apel1.jpg is apel : 0.9989956021308899\n",
      "The prediction of apel2.jpg is apel : 0.9993368983268738\n",
      "The prediction of apel3.jpg is apel : 0.9871566891670227\n",
      "The prediction of bayam1.jpeg is bayam : 0.9999990463256836\n",
      "The prediction of bayam2.jpeg is bayam : 0.984567403793335\n",
      "The prediction of bayam3.jpg is bayam : 0.9999768733978271\n",
      "The prediction of brokoli1.jpg is brokoli : 0.9952630996704102\n",
      "The prediction of brokoli2.jpg is brokoli : 0.9957883954048157\n",
      "The prediction of brokoli3.jpg is brokoli : 0.9978939890861511\n",
      "The prediction of durian1.jpg is durian : 0.9958038926124573\n",
      "The prediction of durian2.jpg is durian : 0.9999552965164185\n",
      "The prediction of durian3.jpg is durian : 0.8829187154769897\n",
      "The prediction of jagung1.jpg is jagung : 0.9917980432510376\n",
      "The prediction of jagung2.jpg is jagung : 0.9999282360076904\n",
      "The prediction of jagung3.jpg is jagung : 0.997312068939209\n",
      "The prediction of jahe1.jpg is jahe : 0.9944700002670288\n",
      "The prediction of jahe2.jpg is jahe : 0.9655762910842896\n",
      "The prediction of jahe3.jpg is jahe : 0.9877356886863708\n",
      "The prediction of jambu1.jpg is jambu : 0.9669062495231628\n",
      "The prediction of jambu2.jpg is jambu : 0.993911623954773\n",
      "The prediction of jambu3.jpg is jambu : 0.8805638551712036\n",
      "The prediction of jeruk1.jpg is jeruk : 0.9999982118606567\n",
      "The prediction of jeruk2.jpg is jeruk : 0.7501486539840698\n",
      "The prediction of jeruk3.jpg is jeruk : 0.7695176005363464\n",
      "The prediction of kembang1.jpg is kembang kol : 0.9982442855834961\n",
      "The prediction of kembang2.jpg is kembang kol : 0.9856234788894653\n",
      "The prediction of kembang3.jpg is kembang kol : 0.9993182420730591\n",
      "The prediction of kiwi.jpg is kiwi : 0.9995859265327454\n",
      "The prediction of kiwi1.jpg is kiwi : 0.9999995231628418\n",
      "The prediction of kiwi2.jpg is kiwi : 0.9832950234413147\n",
      "The prediction of kiwi3.jpg is melon : 0.849450409412384\n",
      "The prediction of kol1.jpg is kol : 0.9936518669128418\n",
      "The prediction of kol2.jpg is kol : 0.9651022553443909\n",
      "The prediction of kol3.jpg is kol : 0.8593173027038574\n",
      "The prediction of lengkuas1.jpg is lengkuas : 0.9999932050704956\n",
      "The prediction of lengkuas2.jpg is lengkuas : 0.998363196849823\n",
      "The prediction of lengkuas3.jpg is lengkuas : 1.0\n",
      "The prediction of lobak1.jpg is lobak : 0.99529629945755\n",
      "The prediction of lobak2.jpg is lobak : 0.6923041343688965\n",
      "The prediction of lobak3.jpg is lobak : 0.9889611601829529\n",
      "The prediction of melon1.jpg is melon : 0.9960339665412903\n",
      "The prediction of melon2.jpg is melon : 0.879479169845581\n",
      "The prediction of melon3.jpg is melon : 0.9999790191650391\n",
      "The prediction of mentimun1.jpg is mentimun : 0.9169415831565857\n",
      "The prediction of mentimun2.jpg is mentimun : 0.9992085099220276\n",
      "The prediction of mentimun3.jpg is mentimun : 0.9990924596786499\n",
      "The prediction of naga.jpg is naga : 0.9981400966644287\n",
      "The prediction of naga2.jpg is naga : 0.9412400722503662\n",
      "The prediction of naga3.jpg is naga : 0.661415159702301\n",
      "The prediction of nanas1.jpg is nanas : 0.9999734163284302\n",
      "The prediction of nanas3.jpg is nanas : 0.9996108412742615\n",
      "The prediction of paprika1.jpg is paprika : 0.9887552261352539\n",
      "The prediction of paprika3.jpg is paprika : 0.943336009979248\n",
      "The prediction of pisang1.jpg is pisang : 0.9999388456344604\n",
      "The prediction of pisang2.jpg is pisang : 0.5286036729812622\n",
      "The prediction of pisang3.jpg is pisang : 0.999908447265625\n",
      "The prediction of pisanghapis.jpg is pisang : 0.9999091625213623\n",
      "The prediction of salak1.jpg is salak : 0.999897837638855\n",
      "The prediction of salak2.jpg is salak : 0.9997264742851257\n",
      "The prediction of salak3.jpg is salak : 0.9999972581863403\n",
      "The prediction of semangka1.jpg is semangka : 0.9999707937240601\n",
      "The prediction of semangka2.jpg is semangka : 0.9544099569320679\n",
      "The prediction of semangka3.jpg is semangka : 0.9984028935432434\n",
      "The prediction of singkong1.jpg is singkong : 0.9996229410171509\n",
      "The prediction of singkong2.jpg is singkong : 0.8509215712547302\n",
      "The prediction of singkong3.jpg is singkong : 0.991902768611908\n",
      "The prediction of stroberi1.jpg is stroberi : 0.9996033310890198\n",
      "The prediction of stroberi2.jpg is stroberi : 0.9994679093360901\n",
      "The prediction of stroberi3.jpg is stroberi : 0.999742329120636\n",
      "The prediction of terong1.jpg is terong : 0.9998621940612793\n",
      "The prediction of terong3.jpg is terong : 0.9953704476356506\n",
      "The prediction of tomat1.jpg is tomat : 0.9977980852127075\n",
      "The prediction of tomat2.jpg is tomat : 0.9759528040885925\n",
      "The prediction of tomat3.jpg is tomat : 0.9999444484710693\n",
      "The prediction of ubi1.jpg is ubi jalar : 0.9868921637535095\n",
      "The prediction of ubi2.jpg is ubi jalar : 0.9711488485336304\n",
      "The prediction of ubi3.jpg is ubi jalar : 0.9006327986717224\n",
      "The prediction of wortel1.jpg is wortel : 0.6381542682647705\n",
      "The prediction of wortel2.jpg is wortel : 0.9989533424377441\n",
      "The prediction of wortel3.jpg is wortel : 0.9883628487586975\n"
     ]
    }
   ],
   "source": [
    "class_labels = ['alpukat','anggur','apel','bayam','brokoli','durian','jagung','jahe','jambu','jeruk','kembang kol',\n",
    "                'kiwi','kol','lengkuas','lobak','mangga','melon','mentimun','naga','nanas','paprika',\n",
    "                'pisang','salak','semangka','singkong','stroberi','terong','tomat','ubi jalar','wortel']\n",
    "\n",
    "# Load and preprocess the image\n",
    "for filename in os.listdir(testing_dir):\n",
    "    if filename.endswith('.jpg') or filename.endswith('.jpeg') or filename.endswith('.png'):\n",
    "        img = image.load_img(os.path.join(testing_dir, filename), target_size=(224, 224))\n",
    "        x = image.img_to_array(img)\n",
    "        x = np.expand_dims(x, axis=0)\n",
    "        x = x / 255.0\n",
    "        predictions = model.predict(x)\n",
    "        predicted_class_index = np.argmax(predictions[0])\n",
    "        predicted_class_label = class_labels[predicted_class_index]\n",
    "        print(f\"The prediction of {filename} is {predicted_class_label} : {np.max(predictions[0])}\")"
   ]
  },
  {
   "cell_type": "code",
   "execution_count": null,
   "metadata": {},
   "outputs": [],
   "source": []
  }
 ],
 "metadata": {
  "kernelspec": {
   "display_name": "tugasweek3",
   "language": "python",
   "name": "python3"
  },
  "language_info": {
   "codemirror_mode": {
    "name": "ipython",
    "version": 3
   },
   "file_extension": ".py",
   "mimetype": "text/x-python",
   "name": "python",
   "nbconvert_exporter": "python",
   "pygments_lexer": "ipython3",
   "version": "3.7.13"
  },
  "orig_nbformat": 4
 },
 "nbformat": 4,
 "nbformat_minor": 2
}
