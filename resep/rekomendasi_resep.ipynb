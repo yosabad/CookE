{
 "cells": [
  {
   "cell_type": "code",
   "execution_count": 1,
   "id": "72c32664",
   "metadata": {},
   "outputs": [],
   "source": [
    "# Import Dependencies\n",
    "import pandas as pd\n",
    "import numpy as np\n",
    "import os\n",
    "import requests, re, string\n",
    "import difflib\n",
    "import nltk\n",
    "from nltk.corpus import stopwords\n",
    "from Sastrawi.Stemmer.StemmerFactory import StemmerFactory as SF\n",
    "from sklearn.feature_extraction.text import TfidfVectorizer\n",
    "from sklearn.metrics.pairwise import cosine_similarity"
   ]
  },
  {
   "cell_type": "code",
   "execution_count": 44,
   "id": "72258a7a",
   "metadata": {},
   "outputs": [],
   "source": [
    "# Read dataset to get the result\n",
    "df_resep = pd.read_csv('resep_final.csv')\n",
    "\n",
    "# Read dataset for processing\n",
    "df_cleaned = pd.read_csv('df_cleaned.csv')\n",
    "df_cleaned['tags'] = df_cleaned['menu'] + ' ' + df_cleaned['bahan'] + ' ' + df_cleaned['langkah']"
   ]
  },
  {
   "cell_type": "code",
   "execution_count": 45,
   "id": "ff3502e4",
   "metadata": {},
   "outputs": [],
   "source": [
    "# Make object Tfidf and Cosine Similarity for searching the desired resep\n",
    "vectorizer = TfidfVectorizer(min_df=1, ngram_range=(1,2))\n",
    "features_vectors = vectorizer.fit_transform(df_cleaned['tags'])\n",
    "similarity = cosine_similarity(features_vectors)"
   ]
  },
  {
   "cell_type": "code",
   "execution_count": 47,
   "id": "099ab8d7",
   "metadata": {},
   "outputs": [],
   "source": [
    "# Function to clean the user input\n",
    "def case_folding(data):\n",
    "    data = data.lower()\n",
    "    data = ' '.join(re.sub(\"(@[A-Za-z0-9]+)|([^0-9A-Za-z \\t])|(\\w+:\\/\\/\\S+)\",\" \",data).split())\n",
    "    data = re.sub(r\"\\d+\", \"\", data)\n",
    "    data = data.translate(str.maketrans(\"\",\"\",string.punctuation))\n",
    "    data = re.sub(r\"\\n\",\"\",data)\n",
    "    data = re.sub(r\"\\t\",\"\",data)\n",
    "    return data\n",
    "\n",
    "def stopword_cleaner(data):\n",
    "    sw_indonesia = stopwords.words(\"indonesian\")\n",
    "    sw_indonesia.remove('tahu')\n",
    "    data  = [word for word in data if word not in sw_indonesia]\n",
    "    data = ' '.join(data)\n",
    "    return data"
   ]
  },
  {
   "cell_type": "code",
   "execution_count": 64,
   "id": "d67b257a",
   "metadata": {},
   "outputs": [
    {
     "name": "stdout",
     "output_type": "stream",
     "text": [
      "Masukkan bahan yang kamu punya: \n"
     ]
    }
   ],
   "source": [
    "# Input user (ini perintahnya bisa diganti sabeb, trs inputannya ga case sensitive karena udh dihandle,\n",
    "# intinya inputan harus bahan, co: Telur, kacang AYAM | ladA, 'PISANG')\n",
    "kata_kunci = input('Masukkan bahan yang kamu punya: ')"
   ]
  },
  {
   "cell_type": "code",
   "execution_count": 65,
   "id": "49cd2d2a",
   "metadata": {
    "scrolled": true
   },
   "outputs": [],
   "source": [
    "# Function to process user input and get the result\n",
    "def rekomendasi(keywords):\n",
    "    # Search the input that quite similar to dataset \n",
    "    similarity_scores = [difflib.SequenceMatcher(None, keywords, tags).ratio() for tags in df_cleaned['bahan'].tolist()]\n",
    "    closest_match_index = similarity_scores.index(max(similarity_scores))\n",
    "    similarity_score = sorted(list(enumerate(similarity[closest_match_index])), key=lambda x:x[1], reverse=True)\n",
    "    \n",
    "    # Return the data (ini formatnya dataframe)\n",
    "    df_result = pd.DataFrame(columns=['menu', 'bahan', 'langkah', 'hasil', 'kalori_kkal', 'lemak_g','karbohidrat_g', 'protein_g', 'serat_g', 'kolesterol_mg', 'gambar_url'])\n",
    "    i = 1\n",
    "    for item in similarity_score:\n",
    "        index = item[0]\n",
    "        if(i<10):\n",
    "            df_result.loc[index] = df_resep.loc[index]\n",
    "            i+=1\n",
    "    return df_result"
   ]
  },
  {
   "cell_type": "code",
   "execution_count": 61,
   "id": "08c3234a",
   "metadata": {},
   "outputs": [],
   "source": [
    "# # Ini return nama-nama menunya doang (opsional/kalo butuh)\n",
    "# def rekomendasi(keywords):\n",
    "#     # Search the input that quite similar to dataset \n",
    "#     similarity_scores = [difflib.SequenceMatcher(None, keywords, tags).ratio() for tags in df_cleaned['bahan'].tolist()]\n",
    "#     closest_match_index = similarity_scores.index(max(similarity_scores))\n",
    "#     similarity_score = sorted(list(enumerate(similarity[closest_match_index])), key=lambda x:x[1], reverse=True)\n",
    "    \n",
    "#     # Return the data (ini format dataframe)\n",
    "#     list_menu = []\n",
    "#     i = 1\n",
    "#     for item in similarity_score:\n",
    "#         index = item[0]\n",
    "#         menu_from_index = df_cleaned[df_cleaned.index==index]['menu'].values[0]\n",
    "#         if(i<11):\n",
    "#             list_menu.append(menu_from_index)\n",
    "#             i+=1\n",
    "#     return list_menu\n",
    "\n",
    "# rekomendasi(kata_kunci)"
   ]
  }
 ],
 "metadata": {
  "kernelspec": {
   "display_name": "Python 3 (ipykernel)",
   "language": "python",
   "name": "python3"
  },
  "language_info": {
   "codemirror_mode": {
    "name": "ipython",
    "version": 3
   },
   "file_extension": ".py",
   "mimetype": "text/x-python",
   "name": "python",
   "nbconvert_exporter": "python",
   "pygments_lexer": "ipython3",
   "version": "3.9.12"
  }
 },
 "nbformat": 4,
 "nbformat_minor": 5
}
